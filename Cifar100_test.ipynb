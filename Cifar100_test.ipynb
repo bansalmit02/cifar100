{
  "nbformat": 4,
  "nbformat_minor": 0,
  "metadata": {
    "colab": {
      "name": "Cifar100-test.ipynb",
      "provenance": [],
      "collapsed_sections": [],
      "machine_shape": "hm",
      "include_colab_link": true
    },
    "kernelspec": {
      "name": "python3",
      "display_name": "Python 3"
    },
    "accelerator": "GPU"
  },
  "cells": [
    {
      "cell_type": "markdown",
      "metadata": {
        "id": "view-in-github",
        "colab_type": "text"
      },
      "source": [
        "<a href=\"https://colab.research.google.com/github/utsavsinghal5/cifar100/blob/master/Cifar100_test.ipynb\" target=\"_parent\"><img src=\"https://colab.research.google.com/assets/colab-badge.svg\" alt=\"Open In Colab\"/></a>"
      ]
    },
    {
      "cell_type": "code",
      "metadata": {
        "colab_type": "code",
        "outputId": "cc2b05d6-b93a-4d55-c1cc-b42522a14307",
        "id": "eydbFWWkLxma",
        "colab": {
          "base_uri": "https://localhost:8080/",
          "height": 34
        }
      },
      "source": [
        "import numpy as np # linear algebra\n",
        "import pandas as pd \n",
        "from sys import argv\n",
        "from keras.models import Sequential\n",
        "from keras.layers import Conv2D, MaxPooling2D, Flatten, Dense, Activation, BatchNormalization,Dropout\n",
        "import keras\n",
        "from keras import regularizers\n",
        "\n",
        "\n"
      ],
      "execution_count": 1,
      "outputs": [
        {
          "output_type": "stream",
          "text": [
            "Using TensorFlow backend.\n"
          ],
          "name": "stderr"
        }
      ]
    },
    {
      "cell_type": "code",
      "metadata": {
        "id": "zCriEDRNKVAf",
        "colab_type": "code",
        "colab": {}
      },
      "source": [
        "\n",
        "\n",
        "# Take input of data\n",
        "train = np.array(pd.read_csv('/content/drive/My Drive/Colab Notebooks/train.csv',header=None,delim_whitespace=True))\n",
        "test = np.array(pd.read_csv('/content/drive/My Drive/Colab Notebooks/test.csv',header=None,delim_whitespace=True))\n"
      ],
      "execution_count": 0,
      "outputs": []
    },
    {
      "cell_type": "code",
      "metadata": {
        "id": "m3frTHi4OAl3",
        "colab_type": "code",
        "colab": {
          "base_uri": "https://localhost:8080/",
          "height": 34
        },
        "outputId": "57765c75-c6a0-43fc-9cbe-871d07b833ef"
      },
      "source": [
        "np.shape(train)\n"
      ],
      "execution_count": 17,
      "outputs": [
        {
          "output_type": "execute_result",
          "data": {
            "text/plain": [
              "(50000, 3074)"
            ]
          },
          "metadata": {
            "tags": []
          },
          "execution_count": 17
        }
      ]
    },
    {
      "cell_type": "code",
      "metadata": {
        "id": "Lulv9qcLO60y",
        "colab_type": "code",
        "colab": {
          "base_uri": "https://localhost:8080/",
          "height": 34
        },
        "outputId": "a16c5926-3f61-4a54-c6a4-986c645ffc01"
      },
      "source": [
        "np.shape(test)"
      ],
      "execution_count": 21,
      "outputs": [
        {
          "output_type": "execute_result",
          "data": {
            "text/plain": [
              "(10000, 3074)"
            ]
          },
          "metadata": {
            "tags": []
          },
          "execution_count": 21
        }
      ]
    },
    {
      "cell_type": "code",
      "metadata": {
        "id": "Z4RHOAnVP_jt",
        "colab_type": "code",
        "colab": {}
      },
      "source": [
        "Xtr = train[:,:-2]\n",
        "Xtr = Xtr.reshape((Xtr.shape[0], 3, 32, 32))\n",
        "Ytr = train[:,-1].reshape((Xtr.shape[0],1))\n",
        "Xtest = test[:,:-2]\n",
        "Xtest = Xtest.reshape((Xtest.shape[0],3, 32, 32))\n",
        "\n",
        "# Process data\n",
        "\n",
        "weight_decay = 1e-4\n",
        "# below is one hot encoding\n",
        "\n",
        "Xtr = Xtr.astype('float32')\n",
        "Xtest = Xtest.astype('float32')\n",
        "\n",
        "Xtr = (Xtr- np.mean(Xtr))/np.std(Xtr)\n",
        "Xtest = (Xtest- np.mean(Xtest))/np.std(Xtest)\n"
      ],
      "execution_count": 0,
      "outputs": []
    },
    {
      "cell_type": "code",
      "metadata": {
        "id": "XeYCKm8hN-P4",
        "colab_type": "code",
        "colab": {
          "base_uri": "https://localhost:8080/",
          "height": 360
        },
        "outputId": "355b246e-7849-4107-eac5-62ecf5c564af"
      },
      "source": [
        "Ytr = keras.utils.to_categorical(Ytr)\n",
        "# developing design for model\n",
        "cnn_model = Sequential()\n",
        "cnn_model.add(Conv2D(filters=64,kernel_size= (3,3), padding = 'same', activation = 'elu', data_format='channels_first',input_shape=(3, 32,32),use_bias = True, kernel_regularizer=regularizers.l2(weight_decay)))\n",
        "cnn_model.add(BatchNormalization())\n",
        "cnn_model.add(Conv2D(filters=128,kernel_size= (3,3), padding = 'same', activation = 'elu', data_format='channels_first',input_shape=(3, 32,32), kernel_regularizer=regularizers.l2(weight_decay)))\n",
        "cnn_model.add(BatchNormalization())\n",
        "cnn_model.add(MaxPooling2D(pool_size=(2,2)))\n",
        "cnn_model.add(Dropout(0.35))\n",
        "\n",
        "cnn_model.add(Conv2D(filters=128,kernel_size= (3,3), padding = 'same', activation = 'elu', data_format='channels_first',input_shape=(3, 32,32),use_bias = True, kernel_regularizer=regularizers.l2(weight_decay)))\n",
        "cnn_model.add(BatchNormalization())\n",
        "cnn_model.add(Conv2D(filters=128,kernel_size= (3,3), padding = 'same', activation = 'elu', data_format='channels_first',input_shape=(3, 32,32),use_bias = True, kernel_regularizer=regularizers.l2(weight_decay)))\n",
        "cnn_model.add(BatchNormalization())\n",
        "cnn_model.add(MaxPooling2D(pool_size=(2,2)))\n",
        "cnn_model.add(Dropout(0.5))\n",
        "\n",
        "cnn_model.add(Conv2D(filters=128,kernel_size= (3,3), padding = 'same', activation = 'elu', data_format='channels_first',input_shape=(3, 32,32),use_bias = True, kernel_regularizer=regularizers.l2(weight_decay)))\n",
        "cnn_model.add(BatchNormalization())\n",
        "cnn_model.add(Conv2D(filters=128,kernel_size= (3,3), padding = 'same', activation = 'elu', data_format='channels_first',input_shape=(3, 32,32),use_bias = True, kernel_regularizer=regularizers.l2(weight_decay)))\n",
        "cnn_model.add(BatchNormalization())\n",
        "cnn_model.add(MaxPooling2D(pool_size=(2,2)))\n",
        "cnn_model.add(Dropout(0.35))\n",
        "\n",
        "cnn_model.add(Conv2D(filters=128,kernel_size= (1,1), padding = 'same', activation = 'elu', data_format='channels_first',input_shape=(3, 32,32),use_bias = True, kernel_regularizer=regularizers.l2(weight_decay)))\n",
        "cnn_model.add(BatchNormalization())\n",
        "cnn_model.add(Conv2D(filters=128,kernel_size= (1,1), padding = 'same', activation = 'elu', data_format='channels_first',input_shape=(3, 32,32),use_bias = True, kernel_regularizer=regularizers.l2(weight_decay)))\n",
        "cnn_model.add(BatchNormalization())\n",
        "cnn_model.add(MaxPooling2D(pool_size=(2,2)))\n",
        "cnn_model.add(Dropout(0.4))\n",
        "\n",
        "\n",
        "cnn_model.add(Conv2D(filters=128,kernel_size= (3,3), padding = 'same', activation = 'elu', data_format='channels_first',input_shape=(3, 32,32),use_bias = True, kernel_regularizer=regularizers.l2(weight_decay)))\n",
        "cnn_model.add(BatchNormalization())\n",
        "cnn_model.add(Conv2D(filters=128,kernel_size= (3,3), padding = 'same', activation = 'elu', data_format='channels_first',input_shape=(3, 32,32),use_bias = True, kernel_regularizer=regularizers.l2(weight_decay)))\n",
        "cnn_model.add(BatchNormalization())\n",
        "cnn_model.add(Dropout(0.5))\n",
        "\n",
        "cnn_model.add(Conv2D(filters=128,kernel_size= (3,3), padding = 'same', activation = 'elu', data_format='channels_first',input_shape=(3, 32,32),use_bias = True, kernel_regularizer=regularizers.l2(weight_decay)))\n",
        "cnn_model.add(BatchNormalization())\n",
        "cnn_model.add(MaxPooling2D(pool_size=(2,2)))\n",
        "cnn_model.add(Dropout(0.4))\n",
        "\n",
        "cnn_model.add(Flatten())\n",
        "cnn_model.add(Dense(100))\n",
        "cnn_model.add(Activation('softmax'))\n",
        "\n",
        "# Deciding optimiser for backprop\n",
        "opt = keras.optimizers.Adam()\n",
        "\n",
        "# Defining backprop\n",
        "cnn_model.compile(loss='categorical_crossentropy',optimizer=opt,metrics=['accuracy'])\n"
      ],
      "execution_count": 6,
      "outputs": [
        {
          "output_type": "stream",
          "text": [
            "WARNING:tensorflow:From /usr/local/lib/python3.6/dist-packages/keras/backend/tensorflow_backend.py:66: The name tf.get_default_graph is deprecated. Please use tf.compat.v1.get_default_graph instead.\n",
            "\n",
            "WARNING:tensorflow:From /usr/local/lib/python3.6/dist-packages/keras/backend/tensorflow_backend.py:541: The name tf.placeholder is deprecated. Please use tf.compat.v1.placeholder instead.\n",
            "\n",
            "WARNING:tensorflow:From /usr/local/lib/python3.6/dist-packages/keras/backend/tensorflow_backend.py:4432: The name tf.random_uniform is deprecated. Please use tf.random.uniform instead.\n",
            "\n",
            "WARNING:tensorflow:From /usr/local/lib/python3.6/dist-packages/keras/backend/tensorflow_backend.py:190: The name tf.get_default_session is deprecated. Please use tf.compat.v1.get_default_session instead.\n",
            "\n",
            "WARNING:tensorflow:From /usr/local/lib/python3.6/dist-packages/keras/backend/tensorflow_backend.py:197: The name tf.ConfigProto is deprecated. Please use tf.compat.v1.ConfigProto instead.\n",
            "\n",
            "WARNING:tensorflow:From /usr/local/lib/python3.6/dist-packages/keras/backend/tensorflow_backend.py:2041: The name tf.nn.fused_batch_norm is deprecated. Please use tf.compat.v1.nn.fused_batch_norm instead.\n",
            "\n",
            "WARNING:tensorflow:From /usr/local/lib/python3.6/dist-packages/keras/backend/tensorflow_backend.py:4267: The name tf.nn.max_pool is deprecated. Please use tf.nn.max_pool2d instead.\n",
            "\n",
            "WARNING:tensorflow:From /usr/local/lib/python3.6/dist-packages/keras/backend/tensorflow_backend.py:3733: calling dropout (from tensorflow.python.ops.nn_ops) with keep_prob is deprecated and will be removed in a future version.\n",
            "Instructions for updating:\n",
            "Please use `rate` instead of `keep_prob`. Rate should be set to `rate = 1 - keep_prob`.\n",
            "WARNING:tensorflow:From /usr/local/lib/python3.6/dist-packages/keras/optimizers.py:793: The name tf.train.Optimizer is deprecated. Please use tf.compat.v1.train.Optimizer instead.\n",
            "\n"
          ],
          "name": "stdout"
        }
      ]
    },
    {
      "cell_type": "code",
      "metadata": {
        "id": "ripu_MWtQywh",
        "colab_type": "code",
        "colab": {
          "base_uri": "https://localhost:8080/",
          "height": 802
        },
        "outputId": "9f9702ad-ae88-4d14-af13-1356589522ab"
      },
      "source": [
        "\n",
        "cnn_model.fit(Xtr,Ytr,batch_size=256, epochs=20,validation_split=0.05, shuffle= True)\n",
        "\n",
        "Ytest = cnn_model.predict(Xtest)\n",
        "\n",
        "Ytest = np.argmax(Ytest,axis=1)\n",
        "pred = []\n",
        "print(pred)\n",
        "for i in range(len(Ytest)):\n",
        "    pred.append(str(Ytest[i]))\n",
        "file = open('output.txt','w')\n",
        "for i in pred:\n",
        "    file.write((i)+'\\n')\n",
        "file.close()"
      ],
      "execution_count": 7,
      "outputs": [
        {
          "output_type": "stream",
          "text": [
            "WARNING:tensorflow:From /usr/local/lib/python3.6/dist-packages/tensorflow/python/ops/math_grad.py:1250: add_dispatch_support.<locals>.wrapper (from tensorflow.python.ops.array_ops) is deprecated and will be removed in a future version.\n",
            "Instructions for updating:\n",
            "Use tf.where in 2.0, which has the same broadcast rule as np.where\n",
            "Train on 47500 samples, validate on 2500 samples\n",
            "Epoch 1/20\n",
            "47500/47500 [==============================] - 70s 1ms/step - loss: 4.9999 - acc: 0.0305 - val_loss: 4.6360 - val_acc: 0.0332\n",
            "Epoch 2/20\n",
            "47500/47500 [==============================] - 59s 1ms/step - loss: 4.3038 - acc: 0.0642 - val_loss: 4.0722 - val_acc: 0.0840\n",
            "Epoch 3/20\n",
            "47500/47500 [==============================] - 58s 1ms/step - loss: 3.8540 - acc: 0.1205 - val_loss: 3.6338 - val_acc: 0.1620\n",
            "Epoch 4/20\n",
            "47500/47500 [==============================] - 59s 1ms/step - loss: 3.5024 - acc: 0.1783 - val_loss: 3.4127 - val_acc: 0.2044\n",
            "Epoch 5/20\n",
            "47500/47500 [==============================] - 59s 1ms/step - loss: 3.2552 - acc: 0.2219 - val_loss: 3.0865 - val_acc: 0.2644\n",
            "Epoch 6/20\n",
            "47500/47500 [==============================] - 59s 1ms/step - loss: 3.0581 - acc: 0.2581 - val_loss: 2.9649 - val_acc: 0.2780\n",
            "Epoch 7/20\n",
            "47500/47500 [==============================] - 59s 1ms/step - loss: 2.8937 - acc: 0.2922 - val_loss: 2.7799 - val_acc: 0.3212\n",
            "Epoch 8/20\n",
            "47500/47500 [==============================] - 59s 1ms/step - loss: 2.7597 - acc: 0.3199 - val_loss: 2.6053 - val_acc: 0.3472\n",
            "Epoch 9/20\n",
            "47500/47500 [==============================] - 59s 1ms/step - loss: 2.6424 - acc: 0.3456 - val_loss: 2.6953 - val_acc: 0.3400\n",
            "Epoch 10/20\n",
            "47500/47500 [==============================] - 59s 1ms/step - loss: 2.5612 - acc: 0.3627 - val_loss: 2.4617 - val_acc: 0.3796\n",
            "Epoch 11/20\n",
            "47500/47500 [==============================] - 59s 1ms/step - loss: 2.4777 - acc: 0.3826 - val_loss: 2.4852 - val_acc: 0.3888\n",
            "Epoch 12/20\n",
            "47500/47500 [==============================] - 59s 1ms/step - loss: 2.4121 - acc: 0.3964 - val_loss: 2.4478 - val_acc: 0.3924\n",
            "Epoch 13/20\n",
            "47500/47500 [==============================] - 59s 1ms/step - loss: 2.3559 - acc: 0.4113 - val_loss: 2.3054 - val_acc: 0.4264\n",
            "Epoch 14/20\n",
            "47500/47500 [==============================] - 59s 1ms/step - loss: 2.3063 - acc: 0.4209 - val_loss: 2.3094 - val_acc: 0.4280\n",
            "Epoch 15/20\n",
            "47500/47500 [==============================] - 59s 1ms/step - loss: 2.2518 - acc: 0.4348 - val_loss: 2.2714 - val_acc: 0.4352\n",
            "Epoch 16/20\n",
            "47500/47500 [==============================] - 59s 1ms/step - loss: 2.2051 - acc: 0.4481 - val_loss: 2.2579 - val_acc: 0.4480\n",
            "Epoch 17/20\n",
            "47500/47500 [==============================] - 59s 1ms/step - loss: 2.1689 - acc: 0.4585 - val_loss: 2.2583 - val_acc: 0.4464\n",
            "Epoch 18/20\n",
            "47500/47500 [==============================] - 58s 1ms/step - loss: 2.1319 - acc: 0.4676 - val_loss: 2.1767 - val_acc: 0.4516\n",
            "Epoch 19/20\n",
            "47500/47500 [==============================] - 59s 1ms/step - loss: 2.0917 - acc: 0.4774 - val_loss: 2.2541 - val_acc: 0.4420\n",
            "Epoch 20/20\n",
            "47500/47500 [==============================] - 59s 1ms/step - loss: 2.0628 - acc: 0.4855 - val_loss: 2.2372 - val_acc: 0.4640\n",
            "[]\n"
          ],
          "name": "stdout"
        }
      ]
    },
    {
      "cell_type": "code",
      "metadata": {
        "id": "WL-ffo89e3HK",
        "colab_type": "code",
        "colab": {}
      },
      "source": [
        "from google.colab import files\n",
        "files.download('output.txt') "
      ],
      "execution_count": 0,
      "outputs": []
    }
  ]
}